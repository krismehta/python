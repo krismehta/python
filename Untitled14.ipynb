{
 "cells": [
  {
   "cell_type": "code",
   "execution_count": 16,
   "metadata": {},
   "outputs": [
    {
     "name": "stdout",
     "output_type": "stream",
     "text": [
      "Intial blank Set: \n",
      "set()\n",
      "{'a', 'r', 'm'}\n"
     ]
    }
   ],
   "source": [
    "\n",
    "# Creating a Set \n",
    "set1 = set() \n",
    "\n",
    "print(\"Intial blank Set: \") \n",
    "print(set1) \n",
    "  \n",
    "# Creating a Set with  \n",
    "# the use of a String \n",
    "set2 = set(\"GeeksForGeeks\") \n",
    "#print(\"\\nSet with the use of String: \") \n",
    "print(set2)"
   ]
  },
  {
   "cell_type": "code",
   "execution_count": 24,
   "metadata": {},
   "outputs": [
    {
     "name": "stdout",
     "output_type": "stream",
     "text": [
      "{'1', '2', '3'}\n"
     ]
    }
   ],
   "source": [
    "s = set('213311')\n",
    "print(s)"
   ]
  },
  {
   "cell_type": "code",
   "execution_count": 22,
   "metadata": {},
   "outputs": [
    {
     "name": "stdout",
     "output_type": "stream",
     "text": [
      "{'q', 't', 'y', 'w', 'r', 'e'}\n"
     ]
    }
   ],
   "source": [
    "a = set('qwerty')\n",
    "print(a)"
   ]
  },
  {
   "cell_type": "code",
   "execution_count": 28,
   "metadata": {},
   "outputs": [
    {
     "name": "stdout",
     "output_type": "stream",
     "text": [
      "{'name': 'ram'}\n"
     ]
    }
   ],
   "source": [
    "name1 ={'name' :'ram'}\n",
    "print(name1)"
   ]
  },
  {
   "cell_type": "code",
   "execution_count": 30,
   "metadata": {},
   "outputs": [
    {
     "ename": "SyntaxError",
     "evalue": "Missing parentheses in call to 'print'. Did you mean print(i, end=\" \")? (<ipython-input-30-5eb7368fefc1>, line 2)",
     "output_type": "error",
     "traceback": [
      "\u001b[1;36m  File \u001b[1;32m\"<ipython-input-30-5eb7368fefc1>\"\u001b[1;36m, line \u001b[1;32m2\u001b[0m\n\u001b[1;33m    print i,\u001b[0m\n\u001b[1;37m          ^\u001b[0m\n\u001b[1;31mSyntaxError\u001b[0m\u001b[1;31m:\u001b[0m Missing parentheses in call to 'print'. Did you mean print(i, end=\" \")?\n"
     ]
    }
   ],
   "source": [
    "for i in range(10):\n",
    "     print i,"
   ]
  },
  {
   "cell_type": "code",
   "execution_count": null,
   "metadata": {},
   "outputs": [],
   "source": []
  }
 ],
 "metadata": {
  "kernelspec": {
   "display_name": "Python 3",
   "language": "python",
   "name": "python3"
  },
  "language_info": {
   "codemirror_mode": {
    "name": "ipython",
    "version": 3
   },
   "file_extension": ".py",
   "mimetype": "text/x-python",
   "name": "python",
   "nbconvert_exporter": "python",
   "pygments_lexer": "ipython3",
   "version": "3.6.5"
  }
 },
 "nbformat": 4,
 "nbformat_minor": 2
}
