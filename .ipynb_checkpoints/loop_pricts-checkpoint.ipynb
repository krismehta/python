{
 "cells": [
  {
   "cell_type": "code",
   "execution_count": 15,
   "metadata": {},
   "outputs": [
    {
     "name": "stdout",
     "output_type": "stream",
     "text": [
      "enter the value 5\n",
      "5\n",
      "10\n",
      "15\n",
      "20\n",
      "25\n",
      "30\n",
      "35\n",
      "40\n",
      "45\n"
     ]
    }
   ],
   "source": [
    "n = int(input(\"enter the value \"))\n",
    "for var in range(1, 10):\n",
    "    print(var*n)"
   ]
  },
  {
   "cell_type": "code",
   "execution_count": 2,
   "metadata": {},
   "outputs": [
    {
     "name": "stdout",
     "output_type": "stream",
     "text": [
      "*\n",
      "**\n",
      "***\n",
      "****\n",
      "*****\n",
      "******\n",
      "*******\n",
      "********\n",
      "*********\n",
      "**********\n"
     ]
    }
   ],
   "source": [
    "n =1\n",
    "while n<=10:\n",
    "    print(\"*\"*n)\n",
    "    n = n+1"
   ]
  },
  {
   "cell_type": "code",
   "execution_count": 30,
   "metadata": {},
   "outputs": [
    {
     "name": "stdout",
     "output_type": "stream",
     "text": [
      "**********\n",
      "*********\n",
      "********\n",
      "*******\n",
      "******\n",
      "*****\n",
      "****\n",
      "***\n",
      "**\n",
      "*\n"
     ]
    }
   ],
   "source": [
    "n =10\n",
    "while n>=1:\n",
    "    print(\"*\"*n)\n",
    "    n = n-1"
   ]
  },
  {
   "cell_type": "code",
   "execution_count": 5,
   "metadata": {},
   "outputs": [
    {
     "name": "stdout",
     "output_type": "stream",
     "text": [
      "**********\n",
      " *********\n",
      "  ********\n",
      "   *******\n",
      "    ******\n",
      "     *****\n",
      "      ****\n",
      "       ***\n",
      "        **\n",
      "         *\n"
     ]
    }
   ],
   "source": [
    "c = 1\n",
    "while c <= 10  :\n",
    "    print(\" \"*(c-1),end='')\n",
    "    print(\"*\"*(10+1-c))\n",
    "    c = c + 1"
   ]
  },
  {
   "cell_type": "code",
   "execution_count": 6,
   "metadata": {},
   "outputs": [
    {
     "name": "stdout",
     "output_type": "stream",
     "text": [
      "         *\n",
      "        **\n",
      "       ***\n",
      "      ****\n",
      "     *****\n",
      "    ******\n",
      "   *******\n",
      "  ********\n",
      " *********\n",
      "**********\n"
     ]
    }
   ],
   "source": [
    "c = 1\n",
    "while c <= 10  :\n",
    "    print(\" \"*(10-c)+\"*\"*(c))\n",
    "    c += 1"
   ]
  },
  {
   "cell_type": "code",
   "execution_count": 8,
   "metadata": {},
   "outputs": [
    {
     "name": "stdout",
     "output_type": "stream",
     "text": [
      "*\n",
      "**\n",
      "***\n",
      "****\n",
      "*****\n",
      "******\n",
      "*******\n",
      "********\n",
      "*********\n",
      "**********\n"
     ]
    }
   ],
   "source": [
    "c = 1\n",
    "while c<=10:\n",
    "    print(\"*\"*c)\n",
    "    c=c+1"
   ]
  },
  {
   "cell_type": "code",
   "execution_count": 8,
   "metadata": {},
   "outputs": [
    {
     "name": "stdout",
     "output_type": "stream",
     "text": [
      "**********\n",
      "*********\n",
      "********\n",
      "*******\n",
      "******\n",
      "*****\n",
      "****\n",
      "***\n",
      "**\n",
      "*\n"
     ]
    }
   ],
   "source": [
    "c = 10\n",
    "while c>=1:\n",
    "    print(\"*\"*c)\n",
    "    c=c-1"
   ]
  },
  {
   "cell_type": "code",
   "execution_count": 11,
   "metadata": {},
   "outputs": [
    {
     "name": "stdout",
     "output_type": "stream",
     "text": [
      "         *\n",
      "        **\n",
      "       ***\n",
      "      ****\n",
      "     *****\n",
      "    ******\n",
      "   *******\n",
      "  ********\n",
      " *********\n",
      "**********\n"
     ]
    }
   ],
   "source": [
    "c = 1\n",
    "while c<=10:\n",
    "    print(\" \"*(10-c)+\"*\"*c)\n",
    "    c=c+1"
   ]
  },
  {
   "cell_type": "code",
   "execution_count": 8,
   "metadata": {},
   "outputs": [
    {
     "name": "stdout",
     "output_type": "stream",
     "text": [
      "*         \n",
      "**        \n",
      "***       \n",
      "****      \n",
      "*****     \n",
      "******    \n",
      "*******   \n",
      "********  \n",
      "********* \n",
      "**********\n"
     ]
    }
   ],
   "source": [
    "c = 10\n",
    "while c>1:\n",
    "    print(\"*\"*(c)+ \" \"*(10-c))\n",
    "    c=c+1"
   ]
  },
  {
   "cell_type": "code",
   "execution_count": 12,
   "metadata": {},
   "outputs": [
    {
     "name": "stdout",
     "output_type": "stream",
     "text": [
      "**********\n",
      "********* \n",
      "********  \n",
      "*******   \n",
      "******    \n",
      "*****     \n",
      "****      \n",
      "***       \n",
      "**        \n",
      "*         \n"
     ]
    }
   ],
   "source": [
    "c = 10\n",
    "while c>=1:\n",
    "    print(\"*\"*(c)+ \" \"*(10-c))\n",
    "    c=c-1"
   ]
  },
  {
   "cell_type": "code",
   "execution_count": 14,
   "metadata": {},
   "outputs": [
    {
     "name": "stdout",
     "output_type": "stream",
     "text": [
      "* * * * * * * * * * \n",
      " * * * * * * * * * \n",
      "  * * * * * * * * \n",
      "   * * * * * * * \n",
      "    * * * * * * \n",
      "     * * * * * \n",
      "      * * * * \n",
      "       * * * \n",
      "        * * \n",
      "         * \n"
     ]
    }
   ],
   "source": [
    "c = 10\n",
    "while c>=1:\n",
    "    print(\" \"*(10-c)+ \"* \"*(c))\n",
    "    c=c-1"
   ]
  },
  {
   "cell_type": "code",
   "execution_count": 19,
   "metadata": {},
   "outputs": [
    {
     "name": "stdout",
     "output_type": "stream",
     "text": [
      "enter the number 5\n",
      "5\n",
      "10\n",
      "15\n",
      "20\n",
      "25\n",
      "30\n",
      "35\n",
      "40\n",
      "45\n",
      "50\n"
     ]
    }
   ],
   "source": [
    "num = int(input(\"enter the number \"))\n",
    "c=1\n",
    "while c<=10:\n",
    "    print(c*num)\n",
    "    c = c+1"
   ]
  },
  {
   "cell_type": "code",
   "execution_count": 6,
   "metadata": {},
   "outputs": [
    {
     "name": "stdout",
     "output_type": "stream",
     "text": [
      "enter the number 5\n",
      "*\n",
      "**\n",
      "***\n",
      "****\n",
      "*****\n"
     ]
    }
   ],
   "source": [
    "num = int(input(\"enter the number \"))\n",
    "c = 1\n",
    "while c<=num:\n",
    "    print(\"*\"*(c))\n",
    "    c = c+1"
   ]
  },
  {
   "cell_type": "code",
   "execution_count": 3,
   "metadata": {},
   "outputs": [
    {
     "name": "stdout",
     "output_type": "stream",
     "text": [
      "enter the number 15\n",
      "**********\n",
      "*********\n",
      "********\n",
      "*******\n",
      "******\n",
      "*****\n",
      "****\n",
      "***\n",
      "**\n",
      "*\n"
     ]
    }
   ],
   "source": [
    "num = int(input(\"enter the number \"))\n",
    "c = 10\n",
    "while c>=1:\n",
    "    print(\"*\"*(c))\n",
    "    c = c-1"
   ]
  },
  {
   "cell_type": "code",
   "execution_count": 26,
   "metadata": {},
   "outputs": [
    {
     "name": "stdout",
     "output_type": "stream",
     "text": [
      "********************\n",
      "********* *********\n",
      "********  ********\n",
      "*******   *******\n",
      "******    ******\n",
      "*****     *****\n",
      "****      ****\n",
      "***       ***\n",
      "**        **\n",
      "*         *\n",
      "*         *\n",
      "**        **\n",
      "***       ***\n",
      "****      ****\n",
      "*****     *****\n",
      "******    ******\n",
      "*******   *******\n",
      "********  ********\n",
      "********* *********\n",
      "********************\n"
     ]
    }
   ],
   "source": [
    "c = 10\n",
    "while c>=1:\n",
    "    print(\"*\"*(c),end='')\n",
    "    print(\" \"*(10-c)+ \"*\"*(c))\n",
    "    c = c-1\n",
    "c = 1\n",
    "while c<=10:\n",
    "    print(\"*\"*(c), end='')\n",
    "    print(\" \"*(10-c)+\"*\"*c)\n",
    "    c = c+1"
   ]
  },
  {
   "cell_type": "code",
   "execution_count": 38,
   "metadata": {},
   "outputs": [
    {
     "name": "stdout",
     "output_type": "stream",
     "text": [
      "gdfgd\n",
      "fgdg\n",
      "gdf\n",
      "fgdgfdg\n"
     ]
    }
   ],
   "source": [
    "l=['gdfgd','fgdg','gdf','fgdgfdg']\n",
    "for var in l:\n",
    "    print(var)"
   ]
  },
  {
   "cell_type": "code",
   "execution_count": 45,
   "metadata": {},
   "outputs": [
    {
     "name": "stdout",
     "output_type": "stream",
     "text": [
      "4\n",
      "8\n",
      "12\n",
      "16\n",
      "20\n",
      "24\n",
      "28\n",
      "32\n",
      "36\n"
     ]
    }
   ],
   "source": [
    "i=1\n",
    "for var in range (i ,10):\n",
    "    print (var*4)"
   ]
  },
  {
   "cell_type": "code",
   "execution_count": null,
   "metadata": {},
   "outputs": [],
   "source": []
  }
 ],
 "metadata": {
  "kernelspec": {
   "display_name": "Python 3",
   "language": "python",
   "name": "python3"
  },
  "language_info": {
   "codemirror_mode": {
    "name": "ipython",
    "version": 3
   },
   "file_extension": ".py",
   "mimetype": "text/x-python",
   "name": "python",
   "nbconvert_exporter": "python",
   "pygments_lexer": "ipython3",
   "version": "3.6.5"
  }
 },
 "nbformat": 4,
 "nbformat_minor": 2
}
