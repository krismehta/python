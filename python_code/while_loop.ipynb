{
 "cells": [
  {
   "cell_type": "code",
   "execution_count": 51,
   "metadata": {},
   "outputs": [
    {
     "name": "stdout",
     "output_type": "stream",
     "text": [
      "********************\n",
      "*********  *********\n",
      "********    ********\n",
      "*******      *******\n",
      "******        ******\n",
      "*****          *****\n",
      "****            ****\n",
      "***              ***\n",
      "**                **\n",
      "*                  *\n",
      "*                  *\n",
      "**                **\n",
      "***              ***\n",
      "****            ****\n",
      "*****          *****\n",
      "******        ******\n",
      "*******      *******\n",
      "********    ********\n",
      "*********  *********\n",
      "********************\n"
     ]
    }
   ],
   "source": [
    "for row in range(10):\n",
    "    print(\"*\"*(10-row),end='')\n",
    "    print(\" \"*row,end='')\n",
    "    print(\" \"*row,end='')\n",
    "    print(\"*\"*(10-row))\n",
    "for row in range(1,11):\n",
    "    print(\"*\"*row,end='')\n",
    "    print(\" \"*(10-row),end='')\n",
    "    print(\" \"*(10-row),end='')\n",
    "    print(\"*\"*row)"
   ]
  },
  {
   "cell_type": "code",
   "execution_count": 17,
   "metadata": {},
   "outputs": [
    {
     "name": "stdout",
     "output_type": "stream",
     "text": [
      "********************\n",
      "*********  *********\n",
      "********    ********\n",
      "*******      *******\n",
      "******        ******\n",
      "*****          *****\n",
      "****            ****\n",
      "***              ***\n",
      "**                **\n",
      "*                  *\n",
      "                    \n",
      "*                  *\n",
      "**                **\n",
      "***              ***\n",
      "****            ****\n",
      "*****          *****\n",
      "******        ******\n",
      "*******      *******\n",
      "********    ********\n",
      "*********  *********\n",
      "********************\n"
     ]
    }
   ],
   "source": [
    "row = 0\n",
    "\n",
    "while row <= 10  :\n",
    "    print(\"*\"*(10-row),end='')\n",
    "    print(\" \"*row,end='')\n",
    "    print(\" \"*row,end='')\n",
    "    print(\"*\"*(10-row))\n",
    "    row = row + 1\n",
    "rows = 1\n",
    "while rows <= 10  :\n",
    "    print(\"*\"*rows,end='')\n",
    "    print(\" \"*(10-rows),end='')\n",
    "    print(\" \"*(10-rows),end='')\n",
    "    print(\"*\"*rows)\n",
    "    rows = rows + 1\n",
    "   "
   ]
  },
  {
   "cell_type": "code",
   "execution_count": 25,
   "metadata": {},
   "outputs": [
    {
     "name": "stdout",
     "output_type": "stream",
     "text": [
      "******\n",
      "    **\n",
      "   * *\n",
      "  *  *\n",
      " *   *\n",
      "*    *\n"
     ]
    }
   ],
   "source": [
    "i=1\n",
    "j=4\n",
    "for row in range (0,6):\n",
    "    for col in range (0,6):\n",
    "        if row==0 or col==5:\n",
    "            print(\"*\", end=\"\")\n",
    "        elif row==i and col==j:\n",
    "            print(\"*\", end=\"\")\n",
    "            i=i+1\n",
    "            j=j-1\n",
    "        else:\n",
    "            print(end=\" \")\n",
    "    print()"
   ]
  },
  {
   "cell_type": "code",
   "execution_count": 38,
   "metadata": {},
   "outputs": [
    {
     "name": "stdout",
     "output_type": "stream",
     "text": [
      "\n",
      "*\n",
      "**\n",
      "***\n",
      "****\n",
      "*****\n",
      "******\n",
      "*******\n",
      "********\n",
      "*********\n"
     ]
    }
   ],
   "source": [
    "for row in range(10):\n",
    "    for col in range(row):\n",
    "        print(\"*\",end='')\n",
    "    print()"
   ]
  },
  {
   "cell_type": "code",
   "execution_count": null,
   "metadata": {},
   "outputs": [],
   "source": []
  },
  {
   "cell_type": "code",
   "execution_count": 39,
   "metadata": {},
   "outputs": [
    {
     "name": "stdout",
     "output_type": "stream",
     "text": [
      "**********\n",
      "*********\n",
      "********\n",
      "*******\n",
      "******\n",
      "*****\n",
      "****\n",
      "***\n",
      "**\n",
      "*\n"
     ]
    }
   ],
   "source": [
    "for row in range(10):\n",
    "    for col in range(10-row):\n",
    "        print(\"*\",end='')\n",
    "    print()"
   ]
  },
  {
   "cell_type": "code",
   "execution_count": 53,
   "metadata": {},
   "outputs": [
    {
     "name": "stdout",
     "output_type": "stream",
     "text": [
      "*         * * * * * * \n",
      "*         *           \n",
      "*         *           \n",
      "*         *           \n",
      "*         *           \n",
      "* * * * * * * * * * * \n",
      "          *         * \n",
      "          *         * \n",
      "          *         * \n",
      "          *         * \n",
      "* * * * * *         * \n"
     ]
    }
   ],
   "source": [
    "for row in range(11):\n",
    "    for col in range(11):\n",
    "        if (row==5 or col==5) or (col ==0 and row<=5) or (col==10 and row >=5) or (row==0 and col>=5) or (row==10 and col<=5):\n",
    "            print(\"*\", end=\" \")\n",
    "        else:\n",
    "            print (end = \"  \")\n",
    "    print()"
   ]
  },
  {
   "cell_type": "code",
   "execution_count": 1,
   "metadata": {},
   "outputs": [
    {
     "name": "stdout",
     "output_type": "stream",
     "text": [
      "Enter Values1\n",
      "Enter Values2\n",
      "Enter Values3\n",
      "Enter Values4\n",
      "Enter Values5\n",
      "Enter Values6\n",
      "Enter Values7\n",
      "Enter Values8\n",
      "Enter Values9\n"
     ]
    }
   ],
   "source": [
    "col = 3\n",
    "row = 3\n",
    "matrix = [[int(input(\"Enter Values\"))for var in range(col)]for var in range(row)]"
   ]
  },
  {
   "cell_type": "code",
   "execution_count": 2,
   "metadata": {},
   "outputs": [
    {
     "name": "stdout",
     "output_type": "stream",
     "text": [
      "[[1, 2, 3], [4, 5, 6], [7, 8, 9]]\n"
     ]
    }
   ],
   "source": [
    "print(matrix)"
   ]
  },
  {
   "cell_type": "code",
   "execution_count": 3,
   "metadata": {},
   "outputs": [
    {
     "data": {
      "text/plain": [
       "['__add__',\n",
       " '__class__',\n",
       " '__contains__',\n",
       " '__delattr__',\n",
       " '__delitem__',\n",
       " '__dir__',\n",
       " '__doc__',\n",
       " '__eq__',\n",
       " '__format__',\n",
       " '__ge__',\n",
       " '__getattribute__',\n",
       " '__getitem__',\n",
       " '__gt__',\n",
       " '__hash__',\n",
       " '__iadd__',\n",
       " '__imul__',\n",
       " '__init__',\n",
       " '__init_subclass__',\n",
       " '__iter__',\n",
       " '__le__',\n",
       " '__len__',\n",
       " '__lt__',\n",
       " '__mul__',\n",
       " '__ne__',\n",
       " '__new__',\n",
       " '__reduce__',\n",
       " '__reduce_ex__',\n",
       " '__repr__',\n",
       " '__reversed__',\n",
       " '__rmul__',\n",
       " '__setattr__',\n",
       " '__setitem__',\n",
       " '__sizeof__',\n",
       " '__str__',\n",
       " '__subclasshook__',\n",
       " 'append',\n",
       " 'clear',\n",
       " 'copy',\n",
       " 'count',\n",
       " 'extend',\n",
       " 'index',\n",
       " 'insert',\n",
       " 'pop',\n",
       " 'remove',\n",
       " 'reverse',\n",
       " 'sort']"
      ]
     },
     "execution_count": 3,
     "metadata": {},
     "output_type": "execute_result"
    }
   ],
   "source": [
    "dir(list)"
   ]
  },
  {
   "cell_type": "code",
   "execution_count": null,
   "metadata": {},
   "outputs": [],
   "source": []
  }
 ],
 "metadata": {
  "kernelspec": {
   "display_name": "Python 3",
   "language": "python",
   "name": "python3"
  },
  "language_info": {
   "codemirror_mode": {
    "name": "ipython",
    "version": 3
   },
   "file_extension": ".py",
   "mimetype": "text/x-python",
   "name": "python",
   "nbconvert_exporter": "python",
   "pygments_lexer": "ipython3",
   "version": "3.6.5"
  }
 },
 "nbformat": 4,
 "nbformat_minor": 2
}
