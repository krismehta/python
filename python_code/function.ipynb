{
 "cells": [
  {
   "cell_type": "code",
   "execution_count": null,
   "metadata": {},
   "outputs": [],
   "source": [
    "age = int(input(\"please Enter age \"))\n",
    "age = age\n",
    "def get_deta(age):\n",
    "    if age >= 18 :\n",
    "        print (\"true\")\n",
    "    else:\n",
    "        print (\"false\")\n",
    "get_deta(age)"
   ]
  },
  {
   "cell_type": "code",
   "execution_count": 3,
   "metadata": {},
   "outputs": [
    {
     "name": "stdout",
     "output_type": "stream",
     "text": [
      "enter your account no 1001\n",
      "········\n",
      "user 1001 have loogged sucessfully\n",
      "account = 1001\n",
      "name = ram\n",
      "bal = 6500\n",
      "password = redhat@3496\n",
      "email = ram@gmail.com\n"
     ]
    }
   ],
   "source": [
    "data = { \n",
    "    1001 : {'account': 1001,'name':'ram','bal':6500,'password':'redhat@3496','email':'ram@gmail.com'},\n",
    "    1002 : {'account': 1002,'name':'shyam','bal':7500000,'password':'@123abcd!','email':'shyam@gmail.com' },\n",
    "    1003 : {'account': 1003,'name':'mukesh','bal':89234,'password':'1384y3243','email':'mukesh@gmail.com'},\n",
    "    1004 : {'account': 1004,'name':'gopal','bal':734234,'password':'hello','email':'gopal@gmail.com'},\n",
    "    1005 : {'account': 1005,'name':'kamal','bal':897983,'password':'bye','email':'kamal@gmail.com'},\n",
    "    1006 : {'account': 1006,'name':'vikash','bal':95000,'password':'goodboy', 'email':'vikash@gmail.com'}            \n",
    "            }\n",
    "\n",
    "def login(account,password):\n",
    "    user_info = data.get(account,password)\n",
    "    if user_info :\n",
    "        if password == user_info.get('password'):\n",
    "            return user_info\n",
    "        else :\n",
    "            False\n",
    "    else :\n",
    "        return False\n",
    "from getpass import getpass\n",
    " \n",
    "def menu():\n",
    "    account = int(input(\"enter your account no \"))\n",
    "    passw = getpass()\n",
    "    log = login(account,passw)\n",
    "    if log :\n",
    "        print(f\"user {log.get('account')} have loogged sucessfully\")\n",
    "        for key,value in log.items():\n",
    "            print(f\"{key} = {value}\")\n",
    "    else:\n",
    "        print(\"invalid username or password\") \n",
    "menu()"
   ]
  },
  {
   "cell_type": "code",
   "execution_count": null,
   "metadata": {},
   "outputs": [],
   "source": []
  }
 ],
 "metadata": {
  "kernelspec": {
   "display_name": "Python 3",
   "language": "python",
   "name": "python3"
  },
  "language_info": {
   "codemirror_mode": {
    "name": "ipython",
    "version": 3
   },
   "file_extension": ".py",
   "mimetype": "text/x-python",
   "name": "python",
   "nbconvert_exporter": "python",
   "pygments_lexer": "ipython3",
   "version": "3.6.5"
  }
 },
 "nbformat": 4,
 "nbformat_minor": 2
}
