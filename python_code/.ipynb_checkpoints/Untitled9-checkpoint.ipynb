{
 "cells": [
  {
   "cell_type": "code",
   "execution_count": 9,
   "metadata": {},
   "outputs": [
    {
     "name": "stdout",
     "output_type": "stream",
     "text": [
      "input enter a number: 5\n",
      "Name[1]: ram\n",
      "['ram']\n",
      "Name[2]: kamal\n",
      "['ram', 'kamal']\n",
      "Name[3]: su\n",
      "['ram', 'kamal', 'su']\n",
      "Name[4]: sds\n",
      "['ram', 'kamal', 'su', 'sds']\n",
      "Name[5]: dsd\n",
      "['ram', 'kamal', 'su', 'sds', 'dsd']\n"
     ]
    }
   ],
   "source": [
    "names = []\n",
    "n = int(input(\"input enter a number: \"))\n",
    "for var in range(1,n+1):\n",
    "    name = input(f\"Name[{var}]: \")\n",
    "    names.append(name)\n",
    "    print(names)"
   ]
  },
  {
   "cell_type": "code",
   "execution_count": null,
   "metadata": {},
   "outputs": [],
   "source": []
  }
 ],
 "metadata": {
  "kernelspec": {
   "display_name": "Python 3",
   "language": "python",
   "name": "python3"
  },
  "language_info": {
   "codemirror_mode": {
    "name": "ipython",
    "version": 3
   },
   "file_extension": ".py",
   "mimetype": "text/x-python",
   "name": "python",
   "nbconvert_exporter": "python",
   "pygments_lexer": "ipython3",
   "version": "3.6.5"
  }
 },
 "nbformat": 4,
 "nbformat_minor": 2
}
