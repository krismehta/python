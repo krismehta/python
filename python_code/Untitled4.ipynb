{
 "cells": [
  {
   "cell_type": "code",
   "execution_count": 9,
   "metadata": {},
   "outputs": [
    {
     "name": "stdout",
     "output_type": "stream",
     "text": [
      "{'name': 'ramavtar', 'class': 'bca 2nd year', 'rollno': 4, 'subject': 'python', 'loacation': 'jaipur', 'age': 24}\n"
     ]
    }
   ],
   "source": [
    "k={ 'name': 'ramavtar', 'class':'bca 2nd year', 'rollno':4, 'subject':'python', 'loacation':'jaipur', 'age':24}\n",
    "\n",
    "print(k)"
   ]
  },
  {
   "cell_type": "code",
   "execution_count": 10,
   "metadata": {},
   "outputs": [
    {
     "name": "stdout",
     "output_type": "stream",
     "text": [
      "{'name': 'ramavtar', 'class': 'bca 2nd year', 'rollno': 4, 'subject': 'python', 'loacation': 'jaipur', 'age': 24}\n"
     ]
    }
   ],
   "source": [
    "l = k.copy()\n",
    "print(l)"
   ]
  },
  {
   "cell_type": "markdown",
   "metadata": {},
   "source": []
  },
  {
   "cell_type": "code",
   "execution_count": 15,
   "metadata": {},
   "outputs": [
    {
     "name": "stdout",
     "output_type": "stream",
     "text": [
      "{'First name': 'Ramavtar', 'last_name': 'Mehta', 'Fathers_name': 'Bhagwan Sahay Mehta', 'Mothers_Name': 'Chanda Devi', 'Education': 'B.A', 'age': 24}\n"
     ]
    }
   ],
   "source": [
    "myself = {'Name': 'Ramavtar Mehta', 'Fathers_name':'Bhagwan Sahay Mehta', 'Mothers_Name':'Chanda Devi', \n",
    "          'Education':'B.A', 'age':24 }\n",
    "print(myself)"
   ]
  },
  {
   "cell_type": "code",
   "execution_count": 16,
   "metadata": {},
   "outputs": [
    {
     "name": "stdout",
     "output_type": "stream",
     "text": [
      "{'Education': 'B.A',\n",
      " 'Fathers_name': 'Bhagwan Sahay Mehta',\n",
      " 'First name': 'Ramavtar',\n",
      " 'Mothers_Name': 'Chanda Devi',\n",
      " 'age': 24,\n",
      " 'last_name': 'Mehta'}\n"
     ]
    }
   ],
   "source": [
    "from pprint import pprint\n",
    "pprint(myself)"
   ]
  },
  {
   "cell_type": "code",
   "execution_count": 23,
   "metadata": {},
   "outputs": [
    {
     "name": "stdout",
     "output_type": "stream",
     "text": [
      "{'Name': 'Ramavtar Mehta', 'Fathers_name': 'Bhagwan Sahay Mehta', 'Mothers_Name': 'Chanda Devi', 'age': 24, 'education': {'matric': 69.58, 'S.sec': 58.89, 'UG': 50}, 'hobbys': ['cricket', 'football', 'songs']}\n"
     ]
    }
   ],
   "source": [
    "my = {'Name': 'Ramavtar Mehta', 'Fathers_name':'Bhagwan Sahay Mehta', 'Mothers_Name':'Chanda Devi', 'age':24,\n",
    "          'education': {\n",
    "              'matric': 69.58,\n",
    "              'S.sec' : 58.89,\n",
    "              'UG': 50,\n",
    "          },\n",
    "         'hobbys': ['cricket', 'football', 'songs']\n",
    "         }"
   ]
  },
  {
   "cell_type": "code",
   "execution_count": 24,
   "metadata": {},
   "outputs": [
    {
     "name": "stdout",
     "output_type": "stream",
     "text": [
      "{'Fathers_name': 'Bhagwan Sahay Mehta',\n",
      " 'Mothers_Name': 'Chanda Devi',\n",
      " 'Name': 'Ramavtar Mehta',\n",
      " 'age': 24,\n",
      " 'education': {'S.sec': 58.89, 'UG': 50, 'matric': 69.58},\n",
      " 'hobbys': ['cricket', 'football', 'songs']}\n"
     ]
    }
   ],
   "source": [
    "from pprint import pprint\n",
    "pprint(my)"
   ]
  },
  {
   "cell_type": "code",
   "execution_count": null,
   "metadata": {},
   "outputs": [],
   "source": []
  }
 ],
 "metadata": {
  "kernelspec": {
   "display_name": "Python 3",
   "language": "python",
   "name": "python3"
  },
  "language_info": {
   "codemirror_mode": {
    "name": "ipython",
    "version": 3
   },
   "file_extension": ".py",
   "mimetype": "text/x-python",
   "name": "python",
   "nbconvert_exporter": "python",
   "pygments_lexer": "ipython3",
   "version": "3.6.5"
  }
 },
 "nbformat": 4,
 "nbformat_minor": 2
}
