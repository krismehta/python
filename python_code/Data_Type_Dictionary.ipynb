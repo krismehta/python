{
 "cells": [
  {
   "cell_type": "code",
   "execution_count": 8,
   "metadata": {},
   "outputs": [],
   "source": [
    "bank_dict = {\n",
    "    'account_no':\n",
    "        ['1001','1002','1003','1004','1005','1006','1007'],\n",
    "    'user':['sachin','jeet','meena','ramavtar','neha','poonam','sudharshan']\n",
    "}"
   ]
  },
  {
   "cell_type": "code",
   "execution_count": 9,
   "metadata": {},
   "outputs": [
    {
     "name": "stdout",
     "output_type": "stream",
     "text": [
      "{'account_no': ['1001', '1002', '1003', '1004', '1005', '1006', '1007'],\n",
      " 'user': ['sachin',\n",
      "          'jeet',\n",
      "          'meena',\n",
      "          'ramavtar',\n",
      "          'neha',\n",
      "          'poonam',\n",
      "          'sudharshan']}\n"
     ]
    }
   ],
   "source": [
    "from pprint import pprint\n",
    "pprint(bank_dict)"
   ]
  },
  {
   "cell_type": "code",
   "execution_count": null,
   "metadata": {
    "scrolled": true
   },
   "outputs": [],
   "source": []
  },
  {
   "cell_type": "code",
   "execution_count": 35,
   "metadata": {},
   "outputs": [
    {
     "name": "stdout",
     "output_type": "stream",
     "text": [
      "{'account_no': [1001, 1002, 1003, 1004, 1005, 1006, 1007],\n",
      " 'blance': [999999, 8245222, 5455452, 5156515, 4454855, 5465213, 515156],\n",
      " 'loan': ['yes', 'no', 'yes', 'no', 'yes', 'no', 'yes'],\n",
      " 'passward': ['python@123',\n",
      "              'jeet@123',\n",
      "              'meena@123',\n",
      "              'ram@123',\n",
      "              'neha@123',\n",
      "              'poonam@123',\n",
      "              'sud@123'],\n",
      " 'user': ['sachin',\n",
      "          'jeet',\n",
      "          'meena',\n",
      "          'ramavtar',\n",
      "          'neha',\n",
      "          'poonam',\n",
      "          'sudharshan']}\n"
     ]
    }
   ],
   "source": [
    "bank_dict={\n",
    "    'account_no': [1001,1002,1003,1004,1005,1006,1007],\n",
    "    'user': ['sachin','jeet','meena','ramavtar','neha','poonam','sudharshan'],\n",
    "    'blance': [999999,8245222,5455452,5156515,4454855,5465213,515156],\n",
    "    'passward': ['python@123','jeet@123','meena@123','ram@123','neha@123','poonam@123','sud@123'],\n",
    "    'loan': ['yes','no','yes','no','yes','no','yes'],\n",
    "}\n",
    "#print(h)\n",
    "from pprint import pprint\n",
    "pprint(bank_dict)"
   ]
  },
  {
   "cell_type": "code",
   "execution_count": 36,
   "metadata": {},
   "outputs": [
    {
     "name": "stdout",
     "output_type": "stream",
     "text": [
      "{'id': [1001, 1002, 1003, 1004, 1005, 1006, 1007],\n",
      " 'name': ['sachin',\n",
      "          'jeet',\n",
      "          'meena',\n",
      "          'ramavtar',\n",
      "          'neha',\n",
      "          'poonam',\n",
      "          'sudharshan'],\n",
      " 's1': [60, 82, 63, 95, 75, 68, 91],\n",
      " 's2': [95, 64, 73, 55, 89, 69, 86],\n",
      " 's3': [98, 78, 56, 85, 69, 78, 96],\n",
      " 's4': [86, 69, 75, 62, 64, 98, 75],\n",
      " 's5': [60, 82, 63, 95, 75, 68, 91],\n",
      " 's6': [67, 82, 89, 95, 75, 78, 86]}\n"
     ]
    }
   ],
   "source": [
    "school_dict={\n",
    "    'id': [1001,1002,1003,1004,1005,1006,1007],\n",
    "    'name': ['sachin','jeet','meena','ramavtar','neha','poonam','sudharshan'],\n",
    "    's1': [60,82,63,95,75,68,91],\n",
    "    's2': [95,64,73,55,89,69,86],\n",
    "    's3': [98,78,56,85,69,78,96],\n",
    "    's4': [86,69,75,62,64,98,75],\n",
    "    's5': [60,82,63,95,75,68,91],\n",
    "    's6': [67,82,89,95,75,78,86],\n",
    "}\n",
    "#print(h)\n",
    "from pprint import pprint\n",
    "pprint(school_dict)"
   ]
  },
  {
   "cell_type": "code",
   "execution_count": null,
   "metadata": {},
   "outputs": [],
   "source": []
  }
 ],
 "metadata": {
  "kernelspec": {
   "display_name": "Python 3",
   "language": "python",
   "name": "python3"
  },
  "language_info": {
   "codemirror_mode": {
    "name": "ipython",
    "version": 3
   },
   "file_extension": ".py",
   "mimetype": "text/x-python",
   "name": "python",
   "nbconvert_exporter": "python",
   "pygments_lexer": "ipython3",
   "version": "3.6.5"
  }
 },
 "nbformat": 4,
 "nbformat_minor": 2
}
