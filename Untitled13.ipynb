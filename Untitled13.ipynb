{
 "cells": [
  {
   "cell_type": "code",
   "execution_count": 9,
   "metadata": {},
   "outputs": [
    {
     "name": "stdout",
     "output_type": "stream",
     "text": [
      "8 \n",
      "8 7 \n",
      "8 7 6 \n",
      "8 7 6 5 \n"
     ]
    }
   ],
   "source": [
    "for i in range(1,5):\n",
    "  m = 8\n",
    "  for j in range(i,0,-1):\n",
    "    print(m,end=\" \")\n",
    "    m=m-1\n",
    "  print()"
   ]
  },
  {
   "cell_type": "code",
   "execution_count": 12,
   "metadata": {},
   "outputs": [
    {
     "name": "stdout",
     "output_type": "stream",
     "text": [
      "0   \n",
      "2   2   \n",
      "4   4   4   \n",
      "8   8   8   8   \n"
     ]
    }
   ],
   "source": [
    "k=0\n",
    "for i in range(4):\n",
    "  for j in range(i+1):\n",
    "    print(format(k,\"<4\"),end=\"\")\n",
    "  k=2**(i+1)\n",
    "  print()"
   ]
  },
  {
   "cell_type": "code",
   "execution_count": 13,
   "metadata": {},
   "outputs": [
    {
     "name": "stdout",
     "output_type": "stream",
     "text": [
      "2  + 4  + 6  + 8  + 10  + 12  + 14  + 16  + 18  + 20  + 22  + 24  + 26  + 28  + 30  + 32  + 34  + 36  + 38  + 40  + 42  + 44  + 46  + 48  + 50  + 52  + 54  + 56  + 58  + 60  + 62  + 64  + 66  + 68  + 70  + 72  + 74  + 76  + 78  + 80  + 82  + 84  + 86  + 88  + 90  + 92  + 94  + 96  + 98  + 100  +  =  2550\n"
     ]
    }
   ],
   "source": [
    "num= 100\n",
    "result =0\n",
    "for i in range(1,num+1):\n",
    "  if i%2==0:\n",
    "    result = result + i\n",
    "    print(i,\" + \",end=\"\")\n",
    "print(\" = \",result)\n"
   ]
  },
  {
   "cell_type": "code",
   "execution_count": null,
   "metadata": {},
   "outputs": [],
   "source": []
  }
 ],
 "metadata": {
  "kernelspec": {
   "display_name": "Python 3",
   "language": "python",
   "name": "python3"
  },
  "language_info": {
   "codemirror_mode": {
    "name": "ipython",
    "version": 3
   },
   "file_extension": ".py",
   "mimetype": "text/x-python",
   "name": "python",
   "nbconvert_exporter": "python",
   "pygments_lexer": "ipython3",
   "version": "3.6.5"
  }
 },
 "nbformat": 4,
 "nbformat_minor": 2
}
