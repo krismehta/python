{
 "cells": [
  {
   "cell_type": "code",
   "execution_count": 3,
   "metadata": {},
   "outputs": [
    {
     "name": "stdout",
     "output_type": "stream",
     "text": [
      "Please Enter number a 2\n",
      "Please Enter number b 5\n",
      "Please Enter number c 33\n",
      "C is greater \n"
     ]
    }
   ],
   "source": [
    "a = int(input(\"Please Enter number a \"))\n",
    "b = int(input(\"Please Enter number b \"))\n",
    "c = int(input(\"Please Enter number c \"))\n",
    "if (a >= b) and (a >=c) :\n",
    "    print(\"A is greater \")\n",
    "elif (b >= a) and (b >= c) :\n",
    "    print(\"B is greater \")\n",
    "else:\n",
    "    print(\"C is greater \")"
   ]
  },
  {
   "cell_type": "code",
   "execution_count": 6,
   "metadata": {},
   "outputs": [
    {
     "name": "stdout",
     "output_type": "stream",
     "text": [
      "enter a number 4\n",
      "enter a number 5\n",
      "number2 is greater \n"
     ]
    }
   ],
   "source": [
    "number1 = int(input(\"enter a number \"))\n",
    "number2 = int(input(\"enter a number \"))\n",
    "\n",
    "if number1 > number2 :\n",
    "    print(\"number1 is greater \")\n",
    "else:\n",
    "        print(\"number2 is greater \")"
   ]
  },
  {
   "cell_type": "code",
   "execution_count": null,
   "metadata": {},
   "outputs": [],
   "source": [
    "num = float(input(\" Enter a number please\"))\n",
    "if  num > 0 :\n",
    "    print (\"Positive Number\")\n",
    "elif num == 0 :\n",
    "    print (\"Zero Number\")\n",
    "else :\n",
    "    print (\"Negitive Number\")"
   ]
  },
  {
   "cell_type": "code",
   "execution_count": null,
   "metadata": {},
   "outputs": [],
   "source": [
    "number = int(input(\" Enter a number please\"))\n",
    "if  number % 2 :\n",
    "    print (\"Odd Number\")\n",
    "else :\n",
    "    print (\"Even Number\")"
   ]
  },
  {
   "cell_type": "code",
   "execution_count": null,
   "metadata": {},
   "outputs": [],
   "source": [
    "value = ['p', 'r', 's']\n",
    "p = input(\"enter a number \")\n",
    "c = input(\"enter a number \")\n",
    "if p ==\n"
   ]
  }
 ],
 "metadata": {
  "kernelspec": {
   "display_name": "Python 3",
   "language": "python",
   "name": "python3"
  },
  "language_info": {
   "codemirror_mode": {
    "name": "ipython",
    "version": 3
   },
   "file_extension": ".py",
   "mimetype": "text/x-python",
   "name": "python",
   "nbconvert_exporter": "python",
   "pygments_lexer": "ipython3",
   "version": "3.6.5"
  }
 },
 "nbformat": 4,
 "nbformat_minor": 2
}
