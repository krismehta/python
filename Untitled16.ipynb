{
 "cells": [
  {
   "cell_type": "code",
   "execution_count": 1,
   "metadata": {},
   "outputs": [
    {
     "name": "stdout",
     "output_type": "stream",
     "text": [
      "Enter a number 5\n",
      "Enter a number 8\n",
      "num 2 is greater\n"
     ]
    }
   ],
   "source": [
    "num1 =int(input(\"Enter a number \"))\n",
    "num2 =int(input(\"Enter a number \"))\n",
    "\n",
    "if num1>=num2 :\n",
    "    print (\"num 1 is greater\")\n",
    "else :\n",
    "    print(\"num 2 is greater\")"
   ]
  },
  {
   "cell_type": "code",
   "execution_count": null,
   "metadata": {},
   "outputs": [],
   "source": [
    "num1 =int(input(\"Enter a number \"))\n",
    "num2 =int(input(\"Enter a number \"))\n",
    "num3 =int(input(\"Enter a number \"))\n",
    "\n",
    "if (num1>=num2) and (num1 >=num3) :\n",
    "    print (\"num 1 is greater\")\n",
    "elif (num2 >= num1) and (num2 >=num3):\n",
    "    print (\"num 2 is greater\")\n",
    "else :\n",
    "    print(\"num 3 is greater\")"
   ]
  },
  {
   "cell_type": "code",
   "execution_count": null,
   "metadata": {},
   "outputs": [],
   "source": []
  }
 ],
 "metadata": {
  "kernelspec": {
   "display_name": "Python 3",
   "language": "python",
   "name": "python3"
  },
  "language_info": {
   "codemirror_mode": {
    "name": "ipython",
    "version": 3
   },
   "file_extension": ".py",
   "mimetype": "text/x-python",
   "name": "python",
   "nbconvert_exporter": "python",
   "pygments_lexer": "ipython3",
   "version": "3.6.5"
  }
 },
 "nbformat": 4,
 "nbformat_minor": 2
}
