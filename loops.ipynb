{
 "cells": [
  {
   "cell_type": "code",
   "execution_count": 8,
   "metadata": {},
   "outputs": [
    {
     "name": "stdout",
     "output_type": "stream",
     "text": [
      "Enter a Number _____5\n",
      "1 2 3 4 5 6 7 8 9 \n",
      "1 2 3 4 5 6 7 \n",
      "1 2 3 4 5 \n",
      "1 2 3 \n",
      "1 \n"
     ]
    }
   ],
   "source": [
    "n = int(input(\"Enter a Number _____\"))\n",
    "for row in range (n,0,-1):\n",
    "    for col in range(1, row*2):\n",
    "        print (col, end=' ')\n",
    "    print()"
   ]
  },
  {
   "cell_type": "code",
   "execution_count": null,
   "metadata": {},
   "outputs": [],
   "source": [
    "num = int(input(\"Enter a Number _____\"))\n",
    "k=1\n",
    "for row in range (1,num+1):\n",
    "    for col in range(1, k+1):\n",
    "        print (col, end=' ')\n",
    "    k=k+2\n",
    "    print()"
   ]
  },
  {
   "cell_type": "code",
   "execution_count": null,
   "metadata": {},
   "outputs": [],
   "source": [
    "for i in range(1,6):\n",
    " for j in range(1,(2*i)):\n",
    "  print(\"*\",end=\" \")\n",
    " print()"
   ]
  },
  {
   "cell_type": "code",
   "execution_count": 7,
   "metadata": {},
   "outputs": [
    {
     "name": "stdout",
     "output_type": "stream",
     "text": [
      "Enter the number of rows : 8\n",
      "1 \n",
      "1 2 3 \n",
      "1 2 3 4 5 \n",
      "1 2 3 4 5 6 7 \n",
      "1 2 3 4 5 6 7 8 9 \n",
      "1 2 3 4 5 6 7 8 9 10 11 \n",
      "1 2 3 4 5 6 7 8 9 10 11 12 13 \n",
      "1 2 3 4 5 6 7 8 9 10 11 12 13 14 15 \n"
     ]
    }
   ],
   "source": [
    "num = int(input(\"Enter the number of rows : \"))\n",
    "for row in range(1,num+1):\n",
    "    for col in range(1,row*2):\n",
    "        print(col,end = \" \")\n",
    "    print()"
   ]
  },
  {
   "cell_type": "code",
   "execution_count": 17,
   "metadata": {},
   "outputs": [
    {
     "name": "stdout",
     "output_type": "stream",
     "text": [
      "Enter the number of rows : 5\n",
      "1 \n",
      "1 2 3 \n",
      "1 2 3 4 5 \n",
      "1 2 3 4 5 6 7 \n",
      "1 2 3 4 5 6 7 8 9 \n"
     ]
    }
   ],
   "source": [
    "num = int(input(\"Enter the number of rows : \"))\n",
    "k=1\n",
    "for i in range(1,num+1):\n",
    "    for j in range(1,k+1):\n",
    "        print(j,end = \" \")\n",
    "    k=k+2\n",
    "    print()"
   ]
  },
  {
   "cell_type": "code",
   "execution_count": null,
   "metadata": {},
   "outputs": [],
   "source": []
  }
 ],
 "metadata": {
  "kernelspec": {
   "display_name": "Python 3",
   "language": "python",
   "name": "python3"
  },
  "language_info": {
   "codemirror_mode": {
    "name": "ipython",
    "version": 3
   },
   "file_extension": ".py",
   "mimetype": "text/x-python",
   "name": "python",
   "nbconvert_exporter": "python",
   "pygments_lexer": "ipython3",
   "version": "3.6.5"
  }
 },
 "nbformat": 4,
 "nbformat_minor": 2
}
